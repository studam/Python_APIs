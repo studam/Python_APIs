{
 "cells": [
  {
   "cell_type": "code",
   "execution_count": 2,
   "id": "8e90e272",
   "metadata": {},
   "outputs": [
    {
     "ename": "ModuleNotFoundError",
     "evalue": "No module named 'api_keys'",
     "output_type": "error",
     "traceback": [
      "\u001b[1;31m---------------------------------------------------------------------------\u001b[0m",
      "\u001b[1;31mModuleNotFoundError\u001b[0m                       Traceback (most recent call last)",
      "\u001b[1;32m<ipython-input-2-ba3f7218eda5>\u001b[0m in \u001b[0;36m<module>\u001b[1;34m\u001b[0m\n\u001b[0;32m      9\u001b[0m \u001b[1;33m\u001b[0m\u001b[0m\n\u001b[0;32m     10\u001b[0m \u001b[1;31m# Import API key\u001b[0m\u001b[1;33m\u001b[0m\u001b[1;33m\u001b[0m\u001b[1;33m\u001b[0m\u001b[0m\n\u001b[1;32m---> 11\u001b[1;33m \u001b[1;32mfrom\u001b[0m \u001b[0mapi_keys\u001b[0m \u001b[1;32mimport\u001b[0m \u001b[0mg_key\u001b[0m\u001b[1;33m\u001b[0m\u001b[1;33m\u001b[0m\u001b[0m\n\u001b[0m",
      "\u001b[1;31mModuleNotFoundError\u001b[0m: No module named 'api_keys'"
     ]
    }
   ],
   "source": [
    "# Dependencies and Setup\n",
    "import matplotlib.pyplot as plt\n",
    "import pandas as pd\n",
    "import numpy as np\n",
    "import requests\n",
    "import gmaps\n",
    "import os\n",
    "import json\n",
    "\n",
    "# Import API key\n",
    "from api_keys import g_key"
   ]
  },
  {
   "cell_type": "code",
   "execution_count": null,
   "id": "f83dde1b",
   "metadata": {},
   "outputs": [],
   "source": [
    "# Loan CSV file generated from WeatherPy Folder\n",
    "weather_data_to_load = \"../WeatherPy/weather_df.csv\"\n",
    "weather_data = pd.read_csv(weather_data_to_load)\n",
    "dropna_weather_data = weather_data.dropna()\n",
    "del dropna_weather_data[\"Unnamed: 0\"]\n",
    "dropna_weather_data.head(20)"
   ]
  },
  {
   "cell_type": "code",
   "execution_count": null,
   "id": "4ca3742e",
   "metadata": {},
   "outputs": [],
   "source": [
    "# Configure gmaps\n",
    "gmaps.configure(api_key=g_key)\n",
    "\n",
    "# Locations\n",
    "locations = dropna_weather_data[[\"Latitude\", \"Longitude\"]]\n",
    "\n",
    "humidity = dropna_weather_data[\"Humidity (%)\"].astype(float)"
   ]
  },
  {
   "cell_type": "code",
   "execution_count": null,
   "id": "f77105d5",
   "metadata": {},
   "outputs": [],
   "source": [
    "# Plot Heatmap\n",
    "fig = gmaps.figure()\n",
    "\n",
    "# Create heat layer\n",
    "heat_layer = gmaps.heatmap_layer(locations, weights=humidity, \n",
    "                                 dissipating=False, max_intensity=100,\n",
    "                                 point_radius=2)\n",
    "\n",
    "# Add layer\n",
    "fig.add_layer(heat_layer)\n",
    "\n",
    "# Display figure\n",
    "fig"
   ]
  },
  {
   "cell_type": "code",
   "execution_count": null,
   "id": "6c634850",
   "metadata": {},
   "outputs": [],
   "source": [
    "# Filter vacation with zero cloudiness\n",
    "vacation_no_cloud = dropna_weather_data[dropna_weather_data[\"Cloudiness (%)\"] == 0]\n",
    "# Filter vacation with max temp above 70 degrees F\n",
    "vacation_above_70_degrees = vacation_no_cloud[vacation_no_cloud[\"Max Temp (F)\"] > 70]\n",
    "# Filter vacation with max temp below 80 degrees F\n",
    "vacation_below_80_degrees = vacation_above_70_degrees[vacation_above_70_degrees[\"Max Temp (F)\"] < 80]\n",
    "# Filter vacation with wind speed below 10 mph\n",
    "vacation_slow_wind = vacation_below_80_degrees[vacation_below_80_degrees[\"Wind Speed (mph)\"] < 10]\n",
    "# Filter vacation with humidity below 60 %\n",
    "perfect_vacation = vacation_slow_wind[vacation_slow_wind[\"Humidity (%)\"] < 60]\n",
    "# Set Index\n",
    "indexed_perfect_vacation = perfect_vacation.reset_index()\n",
    "del indexed_perfect_vacation[\"index\"]\n",
    "indexed_perfect_vacation"
   ]
  },
  {
   "cell_type": "code",
   "execution_count": null,
   "id": "6ac21fbd",
   "metadata": {},
   "outputs": [],
   "source": [
    "vaca_locations = indexed_perfect_vacation[[\"Latitude\", \"Longitude\"]]\n",
    "\n",
    "vaca_humidity = indexed_perfect_vacation[\"Humidity (%)\"].astype(float)\n",
    "\n",
    "# Plot Heatmap\n",
    "vaca_fig = gmaps.figure()\n",
    "\n",
    "# Create heat layer\n",
    "vaca_heat_layer = gmaps.heatmap_layer(vaca_locations, weights=vaca_humidity, \n",
    "                                 dissipating=False, max_intensity=50,\n",
    "                                 point_radius=2.5)\n",
    "\n",
    "# Add layer\n",
    "vaca_fig.add_layer(vaca_heat_layer)\n",
    "\n",
    "# Display figure\n",
    "vaca_fig"
   ]
  },
  {
   "cell_type": "code",
   "execution_count": null,
   "id": "bc9cced6",
   "metadata": {},
   "outputs": [],
   "source": [
    "# Hotel variable\n",
    "hotels = []\n",
    "\n",
    "# Loop through narrowed down dataframe to get nearest hotel\n",
    "for city in range(len(indexed_perfect_vacation[\"City\"])):\n",
    "\n",
    "    lat = indexed_perfect_vacation.loc[city][\"Latitude\"]\n",
    "    lng = indexed_perfect_vacation.loc[city][\"Longitude\"]\n",
    "\n",
    "    city_coords = f\"{lat},{lng}\"\n",
    "\n",
    "    params = {\n",
    "        \"location\": city_coords, \n",
    "        \"types\": \"lodging\",\n",
    "        \"radius\": 5000,\n",
    "        \"key\": g_key\n",
    "    }\n",
    "\n",
    "    base_url = \"https://maps.googleapis.com/maps/api/place/nearbysearch/json\"   \n",
    "\n",
    "    hotel_request = requests.get(base_url, params=params)\n",
    "    hotel_response = hotel_request.json()\n",
    "\n",
    "    try:\n",
    "        hotels.append(hotel_response[\"results\"][0][\"name\"])\n",
    "    except:\n",
    "        hotels.append(\"Nearest hotel not found\")\n",
    "\n",
    "# Dataframe with nearest hotel\n",
    "indexed_perfect_vacation[\"Nearest Hotel\"] = hotels\n",
    "indexed_perfect_vacation"
   ]
  },
  {
   "cell_type": "code",
   "execution_count": null,
   "id": "77a197bf",
   "metadata": {},
   "outputs": [],
   "source": []
  },
  {
   "cell_type": "code",
   "execution_count": null,
   "id": "e49920a3",
   "metadata": {},
   "outputs": [],
   "source": []
  },
  {
   "cell_type": "code",
   "execution_count": null,
   "id": "c40081d6",
   "metadata": {},
   "outputs": [],
   "source": []
  },
  {
   "cell_type": "code",
   "execution_count": null,
   "id": "6ce96a8a",
   "metadata": {},
   "outputs": [],
   "source": []
  },
  {
   "cell_type": "code",
   "execution_count": null,
   "id": "159aea98",
   "metadata": {},
   "outputs": [],
   "source": []
  }
 ],
 "metadata": {
  "kernelspec": {
   "display_name": "Python 3",
   "language": "python",
   "name": "python3"
  },
  "language_info": {
   "codemirror_mode": {
    "name": "ipython",
    "version": 3
   },
   "file_extension": ".py",
   "mimetype": "text/x-python",
   "name": "python",
   "nbconvert_exporter": "python",
   "pygments_lexer": "ipython3",
   "version": "3.8.8"
  }
 },
 "nbformat": 4,
 "nbformat_minor": 5
}
