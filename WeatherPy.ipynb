{
 "cells": [
  {
   "cell_type": "markdown",
   "metadata": {},
   "source": [
    "# WeatherPy\n",
    "----\n",
    "\n",
    "#### Note\n",
    "* Instructions have been included for each segment. You do not have to follow them exactly, but they are included to help you think through the steps."
   ]
  },
  {
   "cell_type": "code",
   "execution_count": 51,
   "metadata": {
    "scrolled": true
   },
   "outputs": [],
   "source": [
    "# Dependencies and Setup\n",
    "import matplotlib.pyplot as plt\n",
    "import pandas as pd\n",
    "import numpy as np\n",
    "import requests\n",
    "import time\n",
    "from scipy.stats import linregress\n",
    "\n",
    "# Import API key\n",
    "from api_keys import weather_api_key\n",
    "\n",
    "\n",
    "\n",
    "# Incorporated citipy to determine city based on latitude and longitude\n",
    "from citipy import citipy\n",
    "\n",
    "# Output File (CSV)\n",
    "output_data_file = \"output_data/cities.csv\"\n",
    "\n",
    "# Range of latitudes and longitudes\n",
    "lat_range = (-90, 90)\n",
    "lng_range = (-180, 180)"
   ]
  },
  {
   "cell_type": "markdown",
   "metadata": {},
   "source": [
    "## Generate Cities List"
   ]
  },
  {
   "cell_type": "code",
   "execution_count": 52,
   "metadata": {},
   "outputs": [
    {
     "data": {
      "text/plain": [
       "620"
      ]
     },
     "execution_count": 52,
     "metadata": {},
     "output_type": "execute_result"
    }
   ],
   "source": [
    "# List for holding lat_lngs and cities\n",
    "lat_lngs = []\n",
    "cities = []\n",
    "\n",
    "# Create a set of random lat and lng combinations\n",
    "lats = np.random.uniform(lat_range[0], lat_range[1], size=1500)\n",
    "lngs = np.random.uniform(lng_range[0], lng_range[1], size=1500)\n",
    "lat_lngs = zip(lats, lngs)\n",
    "\n",
    "# Identify nearest city for each lat, lng combination\n",
    "for lat_lng in lat_lngs:\n",
    "    city = citipy.nearest_city(lat_lng[0], lat_lng[1]).city_name\n",
    "    \n",
    "    # If the city is unique, then add it to a our cities list\n",
    "    if city not in cities:\n",
    "        cities.append(city)\n",
    "        \n",
    "# Print the city count to confirm sufficient count\n",
    "len(cities)"
   ]
  },
  {
   "cell_type": "code",
   "execution_count": 53,
   "metadata": {},
   "outputs": [],
   "source": [
    "city_name_list = []\n",
    "cloudiness_list = []\n",
    "country_list = []\n",
    "date_list= []\n",
    "humidity_list = []\n",
    "lat_list = []\n",
    "lng_list = []\n",
    "max_temp_list = []\n",
    "wind_speed_list = []\n",
    "index_counter = 0\n",
    "set_counter = 1"
   ]
  },
  {
   "cell_type": "markdown",
   "metadata": {},
   "source": [
    "### Perform API Calls\n",
    "* Perform a weather check on each city using a series of successive API calls.\n",
    "* Include a print log of each city as it'sbeing processed (with the city number and city name).\n"
   ]
  },
  {
   "cell_type": "code",
   "execution_count": 54,
   "metadata": {
    "scrolled": true
   },
   "outputs": [
    {
     "name": "stdout",
     "output_type": "stream",
     "text": [
      "Beginning Data Retrieval \n",
      "-----------------------------\n",
      "Processing Record 1 of Set 1 : puerto ayora\n",
      "Processing Record 2 of Set 1 : kruisfontein\n",
      "Processing Record 3 of Set 1 : hasaki\n",
      "Processing Record 4 of Set 1 : ushuaia\n",
      "Processing Record 5 of Set 1 : georgetown\n",
      "Processing Record 6 of Set 1 : trinidad\n",
      "Processing Record 7 of Set 1 : hobart\n",
      "City not found.\n",
      "Processing Record 8 of Set 1 : rikitea\n",
      "Processing Record 9 of Set 1 : borovoy\n",
      "Processing Record 10 of Set 1 : katsuura\n",
      "Processing Record 11 of Set 1 : karratha\n",
      "Processing Record 12 of Set 1 : qaanaaq\n",
      "Processing Record 13 of Set 1 : umm lajj\n",
      "Processing Record 14 of Set 1 : manokwari\n",
      "City not found.\n",
      "Processing Record 15 of Set 1 : sao joao da barra\n",
      "Processing Record 16 of Set 1 : castanos\n",
      "Processing Record 17 of Set 1 : lata\n",
      "Processing Record 18 of Set 1 : webster\n",
      "City not found.\n",
      "Processing Record 19 of Set 1 : port hedland\n",
      "Processing Record 20 of Set 1 : chara\n",
      "Processing Record 21 of Set 1 : pangnirtung\n",
      "City not found.\n",
      "Processing Record 22 of Set 1 : san rafael\n",
      "Processing Record 23 of Set 1 : ilo\n",
      "Processing Record 24 of Set 1 : pelym\n",
      "City not found.\n",
      "Processing Record 25 of Set 1 : ndola\n",
      "City not found.\n",
      "Processing Record 26 of Set 1 : terme\n",
      "City not found.\n",
      "Processing Record 27 of Set 1 : sibolga\n",
      "Processing Record 28 of Set 1 : bluff\n",
      "Processing Record 29 of Set 1 : panorama\n",
      "Processing Record 30 of Set 1 : clyde river\n",
      "Processing Record 31 of Set 1 : yellowknife\n",
      "City not found.\n",
      "Processing Record 32 of Set 1 : rawson\n",
      "Processing Record 33 of Set 1 : djenne\n",
      "Processing Record 34 of Set 1 : kupang\n",
      "Processing Record 35 of Set 1 : albany\n",
      "Processing Record 36 of Set 1 : sarab\n",
      "Processing Record 37 of Set 1 : tiksi\n",
      "Processing Record 38 of Set 1 : sao filipe\n",
      "Processing Record 39 of Set 1 : plettenberg bay\n",
      "Processing Record 40 of Set 1 : butaritari\n",
      "City not found.\n",
      "Processing Record 41 of Set 1 : carmen\n",
      "Processing Record 42 of Set 1 : ilulissat\n",
      "Processing Record 43 of Set 1 : souillac\n",
      "Processing Record 44 of Set 1 : sazonovo\n",
      "Processing Record 45 of Set 1 : te anau\n",
      "City not found.\n",
      "Processing Record 46 of Set 1 : kapaa\n",
      "Processing Record 47 of Set 1 : san vicente\n",
      "Processing Record 48 of Set 1 : mayumba\n",
      "Processing Record 49 of Set 1 : san cristobal\n",
      "Processing Record 50 of Set 1 : busselton\n",
      "City not found.\n",
      "Processing Record 0 of Set 2 : port blair\n",
      "Processing Record 1 of Set 2 : buraydah\n",
      "Processing Record 2 of Set 2 : saint-philippe\n",
      "Processing Record 3 of Set 2 : hambantota\n",
      "Processing Record 4 of Set 2 : tateyama\n",
      "Processing Record 5 of Set 2 : mataura\n",
      "Processing Record 6 of Set 2 : cape town\n",
      "Processing Record 7 of Set 2 : araria\n",
      "Processing Record 8 of Set 2 : port alfred\n",
      "Processing Record 9 of Set 2 : mogadishu\n",
      "Processing Record 10 of Set 2 : atherton\n",
      "Processing Record 11 of Set 2 : azul\n",
      "Processing Record 12 of Set 2 : sambava\n",
      "Processing Record 13 of Set 2 : henties bay\n",
      "Processing Record 14 of Set 2 : lerwick\n",
      "Processing Record 15 of Set 2 : chernyshevskiy\n",
      "Processing Record 16 of Set 2 : klaksvik\n",
      "Processing Record 17 of Set 2 : east london\n",
      "Processing Record 18 of Set 2 : longyearbyen\n",
      "Processing Record 19 of Set 2 : hermanus\n",
      "Processing Record 20 of Set 2 : new norfolk\n",
      "Processing Record 21 of Set 2 : arman\n",
      "Processing Record 22 of Set 2 : hirara\n",
      "Processing Record 23 of Set 2 : kahului\n",
      "Processing Record 24 of Set 2 : mouzouras\n",
      "Processing Record 25 of Set 2 : zhigansk\n",
      "Processing Record 26 of Set 2 : castro\n",
      "Processing Record 27 of Set 2 : punta arenas\n",
      "Processing Record 28 of Set 2 : lebu\n",
      "Processing Record 29 of Set 2 : yulara\n",
      "Processing Record 30 of Set 2 : usakos\n",
      "Processing Record 31 of Set 2 : cortez\n",
      "Processing Record 32 of Set 2 : aklavik\n",
      "Processing Record 33 of Set 2 : mitsamiouli\n",
      "Processing Record 34 of Set 2 : andros town\n",
      "Processing Record 35 of Set 2 : tazovskiy\n",
      "City not found.\n",
      "Processing Record 36 of Set 2 : palmito\n",
      "Processing Record 37 of Set 2 : qui nhon\n",
      "Processing Record 38 of Set 2 : robertson\n",
      "Processing Record 39 of Set 2 : dikson\n",
      "Processing Record 40 of Set 2 : mahebourg\n",
      "Processing Record 41 of Set 2 : blackwater\n",
      "Processing Record 42 of Set 2 : hithadhoo\n",
      "Processing Record 43 of Set 2 : pangody\n",
      "Processing Record 44 of Set 2 : atuona\n",
      "Processing Record 45 of Set 2 : dingle\n",
      "Processing Record 46 of Set 2 : fuerte olimpo\n",
      "Processing Record 47 of Set 2 : mvuma\n",
      "Processing Record 48 of Set 2 : soyo\n",
      "Processing Record 49 of Set 2 : komsomolskiy\n",
      "Processing Record 50 of Set 2 : avarua\n",
      "Processing Record 0 of Set 3 : severo-kurilsk\n",
      "Processing Record 1 of Set 3 : mandalgovi\n",
      "Processing Record 2 of Set 3 : hilo\n",
      "Processing Record 3 of Set 3 : pangoa\n",
      "Processing Record 4 of Set 3 : warrington\n",
      "Processing Record 5 of Set 3 : jamestown\n",
      "Processing Record 6 of Set 3 : port elizabeth\n",
      "Processing Record 7 of Set 3 : auki\n",
      "Processing Record 8 of Set 3 : saint george\n",
      "Processing Record 9 of Set 3 : poum\n",
      "Processing Record 10 of Set 3 : cabo san lucas\n",
      "Processing Record 11 of Set 3 : najran\n",
      "Processing Record 12 of Set 3 : luderitz\n",
      "City not found.\n",
      "Processing Record 13 of Set 3 : lavrentiya\n",
      "Processing Record 14 of Set 3 : sao gabriel da cachoeira\n",
      "Processing Record 15 of Set 3 : moscow\n",
      "Processing Record 16 of Set 3 : alta floresta\n",
      "Processing Record 17 of Set 3 : bredasdorp\n",
      "Processing Record 18 of Set 3 : mar del plata\n",
      "Processing Record 19 of Set 3 : kodiak\n",
      "Processing Record 20 of Set 3 : tuktoyaktuk\n",
      "Processing Record 21 of Set 3 : konotop\n",
      "Processing Record 22 of Set 3 : smithers\n",
      "Processing Record 23 of Set 3 : chokurdakh\n",
      "City not found.\n",
      "Processing Record 24 of Set 3 : rocha\n",
      "Processing Record 25 of Set 3 : mutis\n",
      "Processing Record 26 of Set 3 : yugorsk\n",
      "Processing Record 27 of Set 3 : richards bay\n",
      "City not found.\n",
      "Processing Record 28 of Set 3 : bahia honda\n",
      "Processing Record 29 of Set 3 : belmonte\n",
      "Processing Record 30 of Set 3 : beatrice\n",
      "City not found.\n",
      "City not found.\n",
      "Processing Record 31 of Set 3 : college\n",
      "Processing Record 32 of Set 3 : moree\n",
      "City not found.\n",
      "Processing Record 33 of Set 3 : olafsvik\n",
      "Processing Record 34 of Set 3 : khatanga\n",
      "Processing Record 35 of Set 3 : berlevag\n",
      "Processing Record 36 of Set 3 : grand gaube\n",
      "Processing Record 37 of Set 3 : pirmasens\n",
      "Processing Record 38 of Set 3 : cayenne\n",
      "City not found.\n",
      "Processing Record 39 of Set 3 : inta\n",
      "Processing Record 40 of Set 3 : barabai\n",
      "Processing Record 41 of Set 3 : dilijan\n",
      "Processing Record 42 of Set 3 : jeremie\n",
      "Processing Record 43 of Set 3 : nelson bay\n",
      "Processing Record 44 of Set 3 : victoria\n",
      "Processing Record 45 of Set 3 : baie-comeau\n",
      "Processing Record 46 of Set 3 : broome\n",
      "Processing Record 47 of Set 3 : innisfail\n",
      "Processing Record 48 of Set 3 : hovd\n",
      "Processing Record 49 of Set 3 : pemba\n",
      "Processing Record 50 of Set 3 : beringovskiy\n",
      "Processing Record 0 of Set 4 : mitzic\n",
      "City not found.\n",
      "Processing Record 1 of Set 4 : trairi\n",
      "Processing Record 2 of Set 4 : kavieng\n",
      "Processing Record 3 of Set 4 : nikki\n",
      "Processing Record 4 of Set 4 : cherskiy\n",
      "Processing Record 5 of Set 4 : camacha\n",
      "Processing Record 6 of Set 4 : naze\n",
      "Processing Record 7 of Set 4 : vila franca do campo\n",
      "Processing Record 8 of Set 4 : cartagena\n",
      "Processing Record 9 of Set 4 : vaini\n",
      "Processing Record 10 of Set 4 : bambous virieux\n",
      "Processing Record 11 of Set 4 : namatanai\n",
      "Processing Record 12 of Set 4 : yantai\n",
      "Processing Record 13 of Set 4 : muros\n",
      "Processing Record 14 of Set 4 : ostrovnoy\n",
      "Processing Record 15 of Set 4 : narsaq\n",
      "City not found.\n",
      "Processing Record 16 of Set 4 : guiratinga\n",
      "Processing Record 17 of Set 4 : renala khurd\n",
      "Processing Record 18 of Set 4 : geraldton\n",
      "Processing Record 19 of Set 4 : saskylakh\n",
      "Processing Record 20 of Set 4 : todos santos\n",
      "Processing Record 21 of Set 4 : corrales\n",
      "Processing Record 22 of Set 4 : maniitsoq\n",
      "Processing Record 23 of Set 4 : kieta\n",
      "Processing Record 24 of Set 4 : thompson\n",
      "Processing Record 25 of Set 4 : sydney\n",
      "Processing Record 26 of Set 4 : dunedin\n",
      "Processing Record 27 of Set 4 : kasongo-lunda\n",
      "Processing Record 28 of Set 4 : tasiilaq\n",
      "Processing Record 29 of Set 4 : alyangula\n",
      "Processing Record 30 of Set 4 : magaria\n",
      "Processing Record 31 of Set 4 : nome\n",
      "Processing Record 32 of Set 4 : sayyan\n",
      "Processing Record 33 of Set 4 : arraial do cabo\n",
      "Processing Record 34 of Set 4 : podolinec\n",
      "City not found.\n",
      "Processing Record 35 of Set 4 : bethel\n",
      "Processing Record 36 of Set 4 : dodge city\n",
      "Processing Record 37 of Set 4 : tilichiki\n"
     ]
    },
    {
     "name": "stdout",
     "output_type": "stream",
     "text": [
      "Processing Record 38 of Set 4 : valente\n",
      "Processing Record 39 of Set 4 : edendale\n",
      "Processing Record 40 of Set 4 : vardo\n",
      "Processing Record 41 of Set 4 : samarai\n",
      "Processing Record 42 of Set 4 : jasper\n",
      "Processing Record 43 of Set 4 : oum hadjer\n",
      "Processing Record 44 of Set 4 : evensk\n",
      "Processing Record 45 of Set 4 : airai\n",
      "Processing Record 46 of Set 4 : inirida\n",
      "Processing Record 47 of Set 4 : si satchanalai\n",
      "Processing Record 48 of Set 4 : iqaluit\n",
      "Processing Record 49 of Set 4 : sitka\n",
      "Processing Record 50 of Set 4 : upernavik\n",
      "Processing Record 0 of Set 5 : shache\n",
      "Processing Record 1 of Set 5 : barrow\n",
      "Processing Record 2 of Set 5 : barcelos\n",
      "Processing Record 3 of Set 5 : hays\n",
      "Processing Record 4 of Set 5 : kamenka\n",
      "Processing Record 5 of Set 5 : san patricio\n",
      "Processing Record 6 of Set 5 : mankono\n",
      "Processing Record 7 of Set 5 : huangmei\n",
      "Processing Record 8 of Set 5 : havelock\n",
      "Processing Record 9 of Set 5 : xuddur\n",
      "Processing Record 10 of Set 5 : lompoc\n",
      "Processing Record 11 of Set 5 : camacupa\n",
      "Processing Record 12 of Set 5 : togur\n",
      "Processing Record 13 of Set 5 : oussouye\n",
      "Processing Record 14 of Set 5 : bereda\n",
      "Processing Record 15 of Set 5 : redding\n",
      "Processing Record 16 of Set 5 : ponta do sol\n",
      "Processing Record 17 of Set 5 : zhongshu\n",
      "Processing Record 18 of Set 5 : ponta delgada\n",
      "Processing Record 19 of Set 5 : chongwe\n",
      "Processing Record 20 of Set 5 : evanston\n",
      "Processing Record 21 of Set 5 : margate\n",
      "Processing Record 22 of Set 5 : laguna\n",
      "Processing Record 23 of Set 5 : esperance\n",
      "Processing Record 24 of Set 5 : saldanha\n",
      "Processing Record 25 of Set 5 : nuuk\n",
      "Processing Record 26 of Set 5 : moron\n",
      "Processing Record 27 of Set 5 : sovetskiy\n",
      "Processing Record 28 of Set 5 : zhob\n",
      "Processing Record 29 of Set 5 : quibdo\n",
      "Processing Record 30 of Set 5 : pacific grove\n",
      "Processing Record 31 of Set 5 : cap malheureux\n",
      "City not found.\n",
      "Processing Record 32 of Set 5 : melbu\n",
      "Processing Record 33 of Set 5 : pevek\n",
      "Processing Record 34 of Set 5 : marsh harbour\n",
      "Processing Record 35 of Set 5 : benguela\n",
      "Processing Record 36 of Set 5 : pitimbu\n",
      "Processing Record 37 of Set 5 : benjamin hill\n",
      "Processing Record 38 of Set 5 : mackay\n",
      "Processing Record 39 of Set 5 : grindavik\n",
      "Processing Record 40 of Set 5 : sisimiut\n",
      "Processing Record 41 of Set 5 : mersing\n",
      "Processing Record 42 of Set 5 : bosobolo\n",
      "Processing Record 43 of Set 5 : kamiiso\n",
      "Processing Record 44 of Set 5 : dongsheng\n",
      "Processing Record 45 of Set 5 : dourdan\n",
      "City not found.\n",
      "Processing Record 46 of Set 5 : inuvik\n",
      "Processing Record 47 of Set 5 : selikhino\n",
      "Processing Record 48 of Set 5 : touros\n",
      "Processing Record 49 of Set 5 : salalah\n",
      "Processing Record 50 of Set 5 : murree\n",
      "Processing Record 0 of Set 6 : itaituba\n",
      "Processing Record 1 of Set 6 : januaria\n",
      "Processing Record 2 of Set 6 : roura\n",
      "Processing Record 3 of Set 6 : peniche\n",
      "Processing Record 4 of Set 6 : cockburn town\n",
      "Processing Record 5 of Set 6 : catumbela\n",
      "City not found.\n",
      "Processing Record 6 of Set 6 : nikolskoye\n",
      "Processing Record 7 of Set 6 : egvekinot\n",
      "Processing Record 8 of Set 6 : provideniya\n",
      "Processing Record 9 of Set 6 : bodden town\n",
      "Processing Record 10 of Set 6 : kurilsk\n",
      "Processing Record 11 of Set 6 : tomatlan\n",
      "Processing Record 12 of Set 6 : buta\n",
      "Processing Record 13 of Set 6 : tiarei\n",
      "Processing Record 14 of Set 6 : torbay\n",
      "Processing Record 15 of Set 6 : harper\n",
      "Processing Record 16 of Set 6 : tarakan\n",
      "Processing Record 17 of Set 6 : rosarito\n",
      "Processing Record 18 of Set 6 : marquard\n",
      "Processing Record 19 of Set 6 : rehoboth\n",
      "Processing Record 20 of Set 6 : souris\n",
      "Processing Record 21 of Set 6 : kavaratti\n",
      "Processing Record 22 of Set 6 : tucuman\n",
      "Processing Record 23 of Set 6 : kem\n",
      "Processing Record 24 of Set 6 : nicoya\n",
      "Processing Record 25 of Set 6 : ayan\n",
      "Processing Record 26 of Set 6 : mehamn\n",
      "Processing Record 27 of Set 6 : noumea\n",
      "Processing Record 28 of Set 6 : srednekolymsk\n",
      "Processing Record 29 of Set 6 : santa lucia\n",
      "Processing Record 30 of Set 6 : faanui\n",
      "Processing Record 31 of Set 6 : kaitangata\n",
      "Processing Record 32 of Set 6 : buzmeyin\n",
      "Processing Record 33 of Set 6 : roma\n",
      "Processing Record 34 of Set 6 : saint-pierre\n",
      "Processing Record 35 of Set 6 : palmer\n",
      "Processing Record 36 of Set 6 : muncar\n",
      "Processing Record 37 of Set 6 : tuatapere\n",
      "Processing Record 38 of Set 6 : meulaboh\n",
      "Processing Record 39 of Set 6 : esso\n",
      "City not found.\n",
      "City not found.\n",
      "Processing Record 40 of Set 6 : murrhardt\n",
      "City not found.\n",
      "Processing Record 41 of Set 6 : marsa matruh\n",
      "Processing Record 42 of Set 6 : alofi\n",
      "Processing Record 43 of Set 6 : tufesti\n",
      "Processing Record 44 of Set 6 : anadyr\n",
      "Processing Record 45 of Set 6 : avera\n",
      "Processing Record 46 of Set 6 : astara\n",
      "Processing Record 47 of Set 6 : san jose\n",
      "Processing Record 48 of Set 6 : kununurra\n",
      "Processing Record 49 of Set 6 : dakar\n",
      "Processing Record 50 of Set 6 : cidreira\n",
      "Processing Record 0 of Set 7 : santa cruz\n",
      "Processing Record 1 of Set 7 : sarangani\n",
      "Processing Record 2 of Set 7 : monrovia\n",
      "Processing Record 3 of Set 7 : necochea\n",
      "Processing Record 4 of Set 7 : charters towers\n",
      "Processing Record 5 of Set 7 : oriximina\n",
      "City not found.\n",
      "Processing Record 6 of Set 7 : palu\n",
      "Processing Record 7 of Set 7 : guerrero\n",
      "City not found.\n",
      "Processing Record 8 of Set 7 : chuy\n",
      "Processing Record 9 of Set 7 : port lincoln\n",
      "Processing Record 10 of Set 7 : antofagasta\n",
      "City not found.\n",
      "Processing Record 11 of Set 7 : fort nelson\n",
      "Processing Record 12 of Set 7 : port shepstone\n",
      "Processing Record 13 of Set 7 : simbahan\n",
      "Processing Record 14 of Set 7 : krasnoselkup\n",
      "Processing Record 15 of Set 7 : basco\n",
      "Processing Record 16 of Set 7 : american canyon\n",
      "Processing Record 17 of Set 7 : halmstad\n",
      "Processing Record 18 of Set 7 : ishigaki\n",
      "Processing Record 19 of Set 7 : port-cartier\n",
      "Processing Record 20 of Set 7 : yining\n",
      "Processing Record 21 of Set 7 : carnarvon\n",
      "City not found.\n",
      "Processing Record 22 of Set 7 : bengkulu\n",
      "Processing Record 23 of Set 7 : ondjiva\n",
      "Processing Record 24 of Set 7 : kaseda\n",
      "Processing Record 25 of Set 7 : saint anthony\n",
      "Processing Record 26 of Set 7 : zambezi\n",
      "Processing Record 27 of Set 7 : acajutla\n",
      "Processing Record 28 of Set 7 : kaliua\n",
      "Processing Record 29 of Set 7 : artyom\n",
      "Processing Record 30 of Set 7 : mount isa\n",
      "Processing Record 31 of Set 7 : vestmannaeyjar\n",
      "Processing Record 32 of Set 7 : khanpur\n",
      "Processing Record 33 of Set 7 : codrington\n",
      "Processing Record 34 of Set 7 : zabol\n",
      "Processing Record 35 of Set 7 : tuy hoa\n",
      "Processing Record 36 of Set 7 : nerchinskiy zavod\n",
      "Processing Record 37 of Set 7 : launceston\n",
      "Processing Record 38 of Set 7 : akdepe\n",
      "Processing Record 39 of Set 7 : luganville\n",
      "City not found.\n",
      "Processing Record 40 of Set 7 : lazaro cardenas\n",
      "Processing Record 41 of Set 7 : enkoping\n",
      "Processing Record 42 of Set 7 : mount gambier\n",
      "Processing Record 43 of Set 7 : mahon\n",
      "Processing Record 44 of Set 7 : garissa\n",
      "City not found.\n",
      "Processing Record 45 of Set 7 : wanning\n",
      "Processing Record 46 of Set 7 : kutum\n",
      "Processing Record 47 of Set 7 : hinche\n",
      "Processing Record 48 of Set 7 : gobabis\n",
      "Processing Record 49 of Set 7 : bima\n",
      "Processing Record 50 of Set 7 : bowen\n",
      "Processing Record 0 of Set 8 : staryy nadym\n",
      "Processing Record 1 of Set 8 : alice springs\n",
      "Processing Record 2 of Set 8 : teya\n",
      "Processing Record 3 of Set 8 : collipulli\n",
      "City not found.\n",
      "City not found.\n",
      "Processing Record 4 of Set 8 : ancud\n",
      "Processing Record 5 of Set 8 : meadow lake\n",
      "Processing Record 6 of Set 8 : hoa binh\n",
      "Processing Record 7 of Set 8 : mezen\n",
      "Processing Record 8 of Set 8 : altay\n",
      "Processing Record 9 of Set 8 : kangasala\n",
      "Processing Record 10 of Set 8 : wuwei\n",
      "Processing Record 11 of Set 8 : cam ranh\n",
      "Processing Record 12 of Set 8 : liverpool\n",
      "Processing Record 13 of Set 8 : payo\n",
      "Processing Record 14 of Set 8 : bilibino\n",
      "Processing Record 15 of Set 8 : san quintin\n",
      "Processing Record 16 of Set 8 : ushtobe\n",
      "Processing Record 17 of Set 8 : ulaangom\n",
      "Processing Record 18 of Set 8 : wairoa\n",
      "Processing Record 19 of Set 8 : enshi\n",
      "Processing Record 20 of Set 8 : saint-augustin\n",
      "Processing Record 21 of Set 8 : kudahuvadhoo\n",
      "Processing Record 22 of Set 8 : norman wells\n",
      "Processing Record 23 of Set 8 : sandwick\n",
      "Processing Record 24 of Set 8 : troitsko-pechorsk\n",
      "Processing Record 25 of Set 8 : nipawin\n",
      "Processing Record 26 of Set 8 : paita\n",
      "Processing Record 27 of Set 8 : vanavara\n",
      "Processing Record 28 of Set 8 : talnakh\n",
      "Processing Record 29 of Set 8 : prince rupert\n"
     ]
    },
    {
     "name": "stdout",
     "output_type": "stream",
     "text": [
      "Processing Record 30 of Set 8 : kyra\n",
      "Processing Record 31 of Set 8 : samarinda\n",
      "Processing Record 32 of Set 8 : mehran\n",
      "Processing Record 33 of Set 8 : nichinan\n",
      "Processing Record 34 of Set 8 : xining\n",
      "Processing Record 35 of Set 8 : nanakuli\n",
      "Processing Record 36 of Set 8 : hervey bay\n",
      "Processing Record 37 of Set 8 : fortuna\n",
      "City not found.\n",
      "City not found.\n",
      "Processing Record 38 of Set 8 : san policarpo\n",
      "Processing Record 39 of Set 8 : cienfuegos\n",
      "Processing Record 40 of Set 8 : requena\n",
      "Processing Record 41 of Set 8 : griffith\n",
      "Processing Record 42 of Set 8 : mayo\n",
      "Processing Record 43 of Set 8 : port augusta\n",
      "Processing Record 44 of Set 8 : ribeira grande\n",
      "City not found.\n",
      "Processing Record 45 of Set 8 : biak\n",
      "Processing Record 46 of Set 8 : bagli\n",
      "Processing Record 47 of Set 8 : gat\n",
      "Processing Record 48 of Set 8 : forbes\n",
      "Processing Record 49 of Set 8 : chumikan\n",
      "Processing Record 50 of Set 8 : rehlingen-siersburg\n",
      "City not found.\n",
      "Processing Record 0 of Set 9 : caravelas\n",
      "Processing Record 1 of Set 9 : hami\n",
      "Processing Record 2 of Set 9 : constitucion\n",
      "Processing Record 3 of Set 9 : dalen\n",
      "Processing Record 4 of Set 9 : coruripe\n",
      "Processing Record 5 of Set 9 : linkoping\n",
      "Processing Record 6 of Set 9 : bulolo\n",
      "Processing Record 7 of Set 9 : pundaguitan\n",
      "Processing Record 8 of Set 9 : huarmey\n",
      "Processing Record 9 of Set 9 : aswan\n",
      "Processing Record 10 of Set 9 : grand bank\n",
      "Processing Record 11 of Set 9 : ouesso\n",
      "Processing Record 12 of Set 9 : tessalit\n",
      "Processing Record 13 of Set 9 : moche\n",
      "Processing Record 14 of Set 9 : chimore\n",
      "Processing Record 15 of Set 9 : caconda\n",
      "Processing Record 16 of Set 9 : zhengjiatun\n",
      "Processing Record 17 of Set 9 : manjeshwar\n",
      "Processing Record 18 of Set 9 : cutervo\n",
      "Processing Record 19 of Set 9 : yei\n",
      "Processing Record 20 of Set 9 : korla\n",
      "Processing Record 21 of Set 9 : nanzhou\n",
      "Processing Record 22 of Set 9 : mocuba\n",
      "Processing Record 23 of Set 9 : merrill\n",
      "Processing Record 24 of Set 9 : sao jose de piranhas\n",
      "Processing Record 25 of Set 9 : araouane\n",
      "Processing Record 26 of Set 9 : coihaique\n",
      "City not found.\n",
      "Processing Record 27 of Set 9 : vila velha\n",
      "Processing Record 28 of Set 9 : tecoanapa\n",
      "Processing Record 29 of Set 9 : hanzhong\n",
      "Processing Record 30 of Set 9 : marzuq\n",
      "Processing Record 31 of Set 9 : temerloh\n",
      "Processing Record 32 of Set 9 : taoudenni\n",
      "City not found.\n",
      "Processing Record 33 of Set 9 : sao miguel do iguacu\n",
      "Processing Record 34 of Set 9 : mahajanga\n",
      "City not found.\n",
      "Processing Record 35 of Set 9 : channel-port aux basques\n",
      "Processing Record 36 of Set 9 : lorengau\n",
      "Processing Record 37 of Set 9 : oranjemund\n",
      "Processing Record 38 of Set 9 : aurillac\n",
      "Processing Record 39 of Set 9 : la playa\n",
      "Processing Record 40 of Set 9 : ulundi\n",
      "Processing Record 41 of Set 9 : kaeo\n",
      "Processing Record 42 of Set 9 : gorontalo\n",
      "Processing Record 43 of Set 9 : flinders\n",
      "Processing Record 44 of Set 9 : maarianhamina\n",
      "Processing Record 45 of Set 9 : ketchikan\n",
      "Processing Record 46 of Set 9 : gamba\n",
      "Processing Record 47 of Set 9 : taltal\n",
      "Processing Record 48 of Set 9 : mokrousovo\n",
      "Processing Record 49 of Set 9 : dali\n",
      "Processing Record 50 of Set 9 : baykit\n",
      "Processing Record 0 of Set 10 : madang\n",
      "Processing Record 1 of Set 10 : solwezi\n",
      "Processing Record 2 of Set 10 : walvis bay\n",
      "Processing Record 3 of Set 10 : iracoubo\n",
      "Processing Record 4 of Set 10 : tinskoy\n",
      "Processing Record 5 of Set 10 : kabare\n",
      "Processing Record 6 of Set 10 : gao\n",
      "Processing Record 7 of Set 10 : hofn\n",
      "Processing Record 8 of Set 10 : tucumcari\n",
      "Processing Record 9 of Set 10 : aripuana\n",
      "Processing Record 10 of Set 10 : hornepayne\n",
      "Processing Record 11 of Set 10 : kingston\n",
      "Processing Record 12 of Set 10 : lagoa\n",
      "Processing Record 13 of Set 10 : sorland\n",
      "Processing Record 14 of Set 10 : elk city\n",
      "Processing Record 15 of Set 10 : ocampo\n",
      "Processing Record 16 of Set 10 : black diamond\n",
      "Processing Record 17 of Set 10 : dubti\n",
      "Processing Record 18 of Set 10 : vao\n",
      "Processing Record 19 of Set 10 : igrim\n",
      "Processing Record 20 of Set 10 : paamiut\n",
      "Processing Record 21 of Set 10 : hudson bay\n",
      "Processing Record 22 of Set 10 : pershotravneve\n",
      "Processing Record 23 of Set 10 : riyadh\n",
      "Processing Record 24 of Set 10 : uige\n",
      "Processing Record 25 of Set 10 : kerrville\n",
      "Processing Record 26 of Set 10 : ryotsu\n",
      "Processing Record 27 of Set 10 : sierpc\n",
      "Processing Record 28 of Set 10 : shenjiamen\n",
      "Processing Record 29 of Set 10 : sechura\n",
      "Processing Record 30 of Set 10 : bijie\n",
      "Processing Record 31 of Set 10 : port hawkesbury\n",
      "Processing Record 32 of Set 10 : vila\n",
      "Processing Record 33 of Set 10 : camara de lobos\n",
      "Processing Record 34 of Set 10 : garowe\n",
      "City not found.\n",
      "Processing Record 35 of Set 10 : vitim\n",
      "Processing Record 36 of Set 10 : sao paulo de olivenca\n",
      "Processing Record 37 of Set 10 : north mankato\n",
      "Processing Record 38 of Set 10 : terney\n",
      "Processing Record 39 of Set 10 : visby\n",
      "Processing Record 40 of Set 10 : yingcheng\n",
      "City not found.\n",
      "Processing Record 41 of Set 10 : quelimane\n",
      "Processing Record 42 of Set 10 : conakry\n",
      "Processing Record 43 of Set 10 : ternate\n",
      "Processing Record 44 of Set 10 : westport\n",
      "Processing Record 45 of Set 10 : umba\n",
      "Processing Record 46 of Set 10 : ylivieska\n",
      "Processing Record 47 of Set 10 : broceni\n",
      "Processing Record 48 of Set 10 : breves\n",
      "City not found.\n",
      "City not found.\n",
      "Processing Record 49 of Set 10 : la ronge\n",
      "Processing Record 50 of Set 10 : tarko-sale\n",
      "Processing Record 0 of Set 11 : workington\n",
      "Processing Record 1 of Set 11 : almansa\n",
      "Processing Record 2 of Set 11 : nantucket\n",
      "Processing Record 3 of Set 11 : ahipara\n",
      "City not found.\n",
      "Processing Record 4 of Set 11 : axim\n",
      "Processing Record 5 of Set 11 : aitape\n",
      "Processing Record 6 of Set 11 : villavieja\n",
      "Processing Record 7 of Set 11 : lamesa\n",
      "Processing Record 8 of Set 11 : tolaga bay\n",
      "Processing Record 9 of Set 11 : kidal\n",
      "Processing Record 10 of Set 11 : alakurtti\n",
      "City not found.\n",
      "Processing Record 11 of Set 11 : marau\n",
      "Processing Record 12 of Set 11 : road town\n",
      "Processing Record 13 of Set 11 : iquitos\n",
      "Processing Record 14 of Set 11 : waipawa\n",
      "Processing Record 15 of Set 11 : litovko\n",
      "Processing Record 16 of Set 11 : rudnaya pristan\n",
      "Processing Record 17 of Set 11 : mglin\n",
      "Processing Record 18 of Set 11 : aksu\n",
      "Processing Record 19 of Set 11 : carutapera\n",
      "Processing Record 20 of Set 11 : tayud\n",
      "Processing Record 21 of Set 11 : perth\n",
      "Processing Record 22 of Set 11 : lasa\n",
      "Processing Record 23 of Set 11 : minamata\n",
      "Processing Record 24 of Set 11 : boyolangu\n",
      "Processing Record 25 of Set 11 : maues\n",
      "Processing Record 26 of Set 11 : barranca\n",
      "Processing Record 27 of Set 11 : santa ines\n",
      "Processing Record 28 of Set 11 : kalmunai\n",
      "Processing Record 29 of Set 11 : zhangye\n",
      "Processing Record 30 of Set 11 : canutama\n",
      "Processing Record 31 of Set 11 : bubaque\n",
      "Processing Record 32 of Set 11 : sobolevo\n",
      "Processing Record 33 of Set 11 : clinton\n",
      "Processing Record 34 of Set 11 : bairiki\n",
      "City not found.\n",
      "Processing Record 35 of Set 11 : yarada\n",
      "Processing Record 36 of Set 11 : beisfjord\n",
      "City not found.\n",
      "Processing Record 37 of Set 11 : san bartolome de tirajana\n",
      "Processing Record 38 of Set 11 : dovolnoye\n",
      "City not found.\n",
      "Processing Record 39 of Set 11 : los llanos de aridane\n",
      "Processing Record 40 of Set 11 : ikom\n",
      "Processing Record 41 of Set 11 : denpasar\n",
      "Processing Record 42 of Set 11 : mudanjiang\n",
      "Processing Record 43 of Set 11 : tahta\n",
      "Processing Record 44 of Set 11 : roald\n",
      "Processing Record 45 of Set 11 : khor\n",
      "City not found.\n",
      "Processing Record 46 of Set 11 : snasa\n",
      "Processing Record 47 of Set 11 : chapais\n",
      "Processing Record 48 of Set 11 : kontagora\n",
      "Processing Record 49 of Set 11 : balkhash\n",
      "Processing Record 50 of Set 11 : collie\n",
      "Processing Record 0 of Set 12 : amapa\n",
      "Processing Record 1 of Set 12 : sungurlu\n",
      "Processing Record 2 of Set 12 : portland\n",
      "Processing Record 3 of Set 12 : tsabong\n",
      "Processing Record 4 of Set 12 : zabid\n",
      "Processing Record 5 of Set 12 : udachnyy\n",
      "Processing Record 6 of Set 12 : sao joao\n",
      "-----------------------------\n",
      "Data Retrieval Complete\n",
      "-----------------------------\n"
     ]
    }
   ],
   "source": [
    "print(\"Beginning Data Retrieval \")\n",
    "print(\"-----------------------------\")\n",
    "\n",
    "base_url = \"http://api.openweathermap.org/data/2.5/weather?\"\n",
    "units = \"imperial\"\n",
    "query_url = f\"{base_url}appid={weather_api_key}&units={units}&q=\"\n",
    "\n",
    "\n",
    "# For each city name in cities list, do below things...\n",
    "for index, city in enumerate(cities, start = 1):\n",
    "    try:\n",
    "        response = requests.get(query_url + city).json()\n",
    "        city_name_list.append(response[\"name\"])\n",
    "        cloudiness_list.append(response[\"clouds\"][\"all\"])\n",
    "        country_list.append(response[\"sys\"][\"country\"])\n",
    "        date_list.append(response[\"dt\"])\n",
    "        humidity_list.append(response[\"main\"][\"humidity\"])\n",
    "        lat_list.append(response[\"coord\"][\"lat\"])\n",
    "        lng_list.append(response[\"coord\"][\"lon\"])\n",
    "        max_temp_list.append(response['main']['temp_max'])\n",
    "        wind_speed_list.append(response[\"wind\"][\"speed\"])\n",
    "        if index_counter > 49:\n",
    "            index_counter = 0\n",
    "            set_counter = set_counter + 1\n",
    "    \n",
    "        else:\n",
    "            index_counter = index_counter + 1\n",
    "            \n",
    "        print(f\"Processing Record {index_counter} of Set {set_counter} : {city}\") \n",
    "  \n",
    "    except(KeyError, IndexError):\n",
    "        print(\"City not found.\")\n",
    "\n",
    "print(\"-----------------------------\")\n",
    "print(\"Data Retrieval Complete\")\n",
    "print(\"-----------------------------\")"
   ]
  },
  {
   "cell_type": "markdown",
   "metadata": {},
   "source": [
    "### Convert Raw Data to DataFrame\n",
    "* Export the city data into a .csv.\n",
    "* Display the DataFrame"
   ]
  },
  {
   "cell_type": "code",
   "execution_count": 55,
   "metadata": {},
   "outputs": [
    {
     "data": {
      "text/html": [
       "<div>\n",
       "<style scoped>\n",
       "    .dataframe tbody tr th:only-of-type {\n",
       "        vertical-align: middle;\n",
       "    }\n",
       "\n",
       "    .dataframe tbody tr th {\n",
       "        vertical-align: top;\n",
       "    }\n",
       "\n",
       "    .dataframe thead th {\n",
       "        text-align: right;\n",
       "    }\n",
       "</style>\n",
       "<table border=\"1\" class=\"dataframe\">\n",
       "  <thead>\n",
       "    <tr style=\"text-align: right;\">\n",
       "      <th></th>\n",
       "      <th>City</th>\n",
       "      <th>Lat</th>\n",
       "      <th>Lng</th>\n",
       "      <th>Max Temp</th>\n",
       "      <th>Humidity</th>\n",
       "      <th>Cloudiness</th>\n",
       "      <th>Wind Speed</th>\n",
       "      <th>Country</th>\n",
       "      <th>Date</th>\n",
       "    </tr>\n",
       "  </thead>\n",
       "  <tbody>\n",
       "    <tr>\n",
       "      <th>0</th>\n",
       "      <td>Puerto Ayora</td>\n",
       "      <td>-0.7393</td>\n",
       "      <td>-90.3518</td>\n",
       "      <td>80.56</td>\n",
       "      <td>89</td>\n",
       "      <td>87</td>\n",
       "      <td>1.99</td>\n",
       "      <td>EC</td>\n",
       "      <td>1645454359</td>\n",
       "    </tr>\n",
       "    <tr>\n",
       "      <th>1</th>\n",
       "      <td>Kruisfontein</td>\n",
       "      <td>-34.0033</td>\n",
       "      <td>24.7314</td>\n",
       "      <td>72.88</td>\n",
       "      <td>60</td>\n",
       "      <td>18</td>\n",
       "      <td>16.67</td>\n",
       "      <td>ZA</td>\n",
       "      <td>1645454360</td>\n",
       "    </tr>\n",
       "    <tr>\n",
       "      <th>2</th>\n",
       "      <td>Hasaki</td>\n",
       "      <td>35.7333</td>\n",
       "      <td>140.8333</td>\n",
       "      <td>36.00</td>\n",
       "      <td>41</td>\n",
       "      <td>6</td>\n",
       "      <td>22.70</td>\n",
       "      <td>JP</td>\n",
       "      <td>1645454361</td>\n",
       "    </tr>\n",
       "    <tr>\n",
       "      <th>3</th>\n",
       "      <td>Ushuaia</td>\n",
       "      <td>-54.8000</td>\n",
       "      <td>-68.3000</td>\n",
       "      <td>55.06</td>\n",
       "      <td>62</td>\n",
       "      <td>0</td>\n",
       "      <td>4.61</td>\n",
       "      <td>AR</td>\n",
       "      <td>1645454356</td>\n",
       "    </tr>\n",
       "    <tr>\n",
       "      <th>4</th>\n",
       "      <td>George Town</td>\n",
       "      <td>5.4112</td>\n",
       "      <td>100.3354</td>\n",
       "      <td>84.13</td>\n",
       "      <td>87</td>\n",
       "      <td>40</td>\n",
       "      <td>0.00</td>\n",
       "      <td>MY</td>\n",
       "      <td>1645454362</td>\n",
       "    </tr>\n",
       "  </tbody>\n",
       "</table>\n",
       "</div>"
      ],
      "text/plain": [
       "           City      Lat       Lng  Max Temp  Humidity  Cloudiness  \\\n",
       "0  Puerto Ayora  -0.7393  -90.3518     80.56        89          87   \n",
       "1  Kruisfontein -34.0033   24.7314     72.88        60          18   \n",
       "2        Hasaki  35.7333  140.8333     36.00        41           6   \n",
       "3       Ushuaia -54.8000  -68.3000     55.06        62           0   \n",
       "4   George Town   5.4112  100.3354     84.13        87          40   \n",
       "\n",
       "   Wind Speed Country        Date  \n",
       "0        1.99      EC  1645454359  \n",
       "1       16.67      ZA  1645454360  \n",
       "2       22.70      JP  1645454361  \n",
       "3        4.61      AR  1645454356  \n",
       "4        0.00      MY  1645454362  "
      ]
     },
     "execution_count": 55,
     "metadata": {},
     "output_type": "execute_result"
    }
   ],
   "source": [
    "# Create a panda data frame using data retrieved\n",
    "weather_df = pd.DataFrame({ \n",
    "                \"City\" : city_name_list,\n",
    "                \"Lat\" : lat_list,\n",
    "                \"Lng\" : lng_list,\n",
    "                \"Max Temp\" : max_temp_list,\n",
    "                \"Humidity\" : humidity_list,\n",
    "                \"Cloudiness\" : cloudiness_list,\n",
    "                \"Wind Speed\" : wind_speed_list,\n",
    "                \"Country\" : country_list,\n",
    "                \"Date\" : date_list\n",
    "               \n",
    "                \n",
    "                \n",
    "                \n",
    "               \n",
    "})\n",
    "\n",
    "#Exporting data to csv\n",
    "weather_df.to_csv(\"../output_data/city.csv\")\n",
    "\n",
    "#Displaying dataframe\n",
    "weather_df.head()"
   ]
  },
  {
   "cell_type": "code",
   "execution_count": 56,
   "metadata": {},
   "outputs": [
    {
     "data": {
      "text/plain": [
       "City          567\n",
       "Lat           567\n",
       "Lng           567\n",
       "Max Temp      567\n",
       "Humidity      567\n",
       "Cloudiness    567\n",
       "Wind Speed    567\n",
       "Country       567\n",
       "Date          567\n",
       "dtype: int64"
      ]
     },
     "execution_count": 56,
     "metadata": {},
     "output_type": "execute_result"
    }
   ],
   "source": [
    "weather_df.count()"
   ]
  },
  {
   "cell_type": "code",
   "execution_count": 57,
   "metadata": {},
   "outputs": [
    {
     "data": {
      "text/html": [
       "<div>\n",
       "<style scoped>\n",
       "    .dataframe tbody tr th:only-of-type {\n",
       "        vertical-align: middle;\n",
       "    }\n",
       "\n",
       "    .dataframe tbody tr th {\n",
       "        vertical-align: top;\n",
       "    }\n",
       "\n",
       "    .dataframe thead th {\n",
       "        text-align: right;\n",
       "    }\n",
       "</style>\n",
       "<table border=\"1\" class=\"dataframe\">\n",
       "  <thead>\n",
       "    <tr style=\"text-align: right;\">\n",
       "      <th></th>\n",
       "      <th>City</th>\n",
       "      <th>Lat</th>\n",
       "      <th>Lng</th>\n",
       "      <th>Max Temp</th>\n",
       "      <th>Humidity</th>\n",
       "      <th>Cloudiness</th>\n",
       "      <th>Wind Speed</th>\n",
       "      <th>Country</th>\n",
       "      <th>Date</th>\n",
       "    </tr>\n",
       "  </thead>\n",
       "  <tbody>\n",
       "    <tr>\n",
       "      <th>0</th>\n",
       "      <td>Puerto Ayora</td>\n",
       "      <td>-0.7393</td>\n",
       "      <td>-90.3518</td>\n",
       "      <td>80.56</td>\n",
       "      <td>89</td>\n",
       "      <td>87</td>\n",
       "      <td>1.99</td>\n",
       "      <td>EC</td>\n",
       "      <td>1645454359</td>\n",
       "    </tr>\n",
       "    <tr>\n",
       "      <th>1</th>\n",
       "      <td>Kruisfontein</td>\n",
       "      <td>-34.0033</td>\n",
       "      <td>24.7314</td>\n",
       "      <td>72.88</td>\n",
       "      <td>60</td>\n",
       "      <td>18</td>\n",
       "      <td>16.67</td>\n",
       "      <td>ZA</td>\n",
       "      <td>1645454360</td>\n",
       "    </tr>\n",
       "    <tr>\n",
       "      <th>2</th>\n",
       "      <td>Hasaki</td>\n",
       "      <td>35.7333</td>\n",
       "      <td>140.8333</td>\n",
       "      <td>36.00</td>\n",
       "      <td>41</td>\n",
       "      <td>6</td>\n",
       "      <td>22.70</td>\n",
       "      <td>JP</td>\n",
       "      <td>1645454361</td>\n",
       "    </tr>\n",
       "    <tr>\n",
       "      <th>3</th>\n",
       "      <td>Ushuaia</td>\n",
       "      <td>-54.8000</td>\n",
       "      <td>-68.3000</td>\n",
       "      <td>55.06</td>\n",
       "      <td>62</td>\n",
       "      <td>0</td>\n",
       "      <td>4.61</td>\n",
       "      <td>AR</td>\n",
       "      <td>1645454356</td>\n",
       "    </tr>\n",
       "    <tr>\n",
       "      <th>4</th>\n",
       "      <td>George Town</td>\n",
       "      <td>5.4112</td>\n",
       "      <td>100.3354</td>\n",
       "      <td>84.13</td>\n",
       "      <td>87</td>\n",
       "      <td>40</td>\n",
       "      <td>0.00</td>\n",
       "      <td>MY</td>\n",
       "      <td>1645454362</td>\n",
       "    </tr>\n",
       "    <tr>\n",
       "      <th>...</th>\n",
       "      <td>...</td>\n",
       "      <td>...</td>\n",
       "      <td>...</td>\n",
       "      <td>...</td>\n",
       "      <td>...</td>\n",
       "      <td>...</td>\n",
       "      <td>...</td>\n",
       "      <td>...</td>\n",
       "      <td>...</td>\n",
       "    </tr>\n",
       "    <tr>\n",
       "      <th>562</th>\n",
       "      <td>Portland</td>\n",
       "      <td>45.5234</td>\n",
       "      <td>-122.6762</td>\n",
       "      <td>39.47</td>\n",
       "      <td>91</td>\n",
       "      <td>100</td>\n",
       "      <td>7.00</td>\n",
       "      <td>US</td>\n",
       "      <td>1645454403</td>\n",
       "    </tr>\n",
       "    <tr>\n",
       "      <th>563</th>\n",
       "      <td>Tsabong</td>\n",
       "      <td>-26.0217</td>\n",
       "      <td>22.4010</td>\n",
       "      <td>94.77</td>\n",
       "      <td>17</td>\n",
       "      <td>5</td>\n",
       "      <td>16.44</td>\n",
       "      <td>BW</td>\n",
       "      <td>1645454842</td>\n",
       "    </tr>\n",
       "    <tr>\n",
       "      <th>564</th>\n",
       "      <td>Zabid</td>\n",
       "      <td>14.1951</td>\n",
       "      <td>43.3152</td>\n",
       "      <td>79.63</td>\n",
       "      <td>60</td>\n",
       "      <td>99</td>\n",
       "      <td>12.59</td>\n",
       "      <td>YE</td>\n",
       "      <td>1645454843</td>\n",
       "    </tr>\n",
       "    <tr>\n",
       "      <th>565</th>\n",
       "      <td>Udachny</td>\n",
       "      <td>66.4167</td>\n",
       "      <td>112.4000</td>\n",
       "      <td>-3.84</td>\n",
       "      <td>100</td>\n",
       "      <td>82</td>\n",
       "      <td>4.50</td>\n",
       "      <td>RU</td>\n",
       "      <td>1645454843</td>\n",
       "    </tr>\n",
       "    <tr>\n",
       "      <th>566</th>\n",
       "      <td>São João</td>\n",
       "      <td>-8.8756</td>\n",
       "      <td>-36.3667</td>\n",
       "      <td>81.99</td>\n",
       "      <td>52</td>\n",
       "      <td>78</td>\n",
       "      <td>7.45</td>\n",
       "      <td>BR</td>\n",
       "      <td>1645454844</td>\n",
       "    </tr>\n",
       "  </tbody>\n",
       "</table>\n",
       "<p>567 rows × 9 columns</p>\n",
       "</div>"
      ],
      "text/plain": [
       "             City      Lat       Lng  Max Temp  Humidity  Cloudiness  \\\n",
       "0    Puerto Ayora  -0.7393  -90.3518     80.56        89          87   \n",
       "1    Kruisfontein -34.0033   24.7314     72.88        60          18   \n",
       "2          Hasaki  35.7333  140.8333     36.00        41           6   \n",
       "3         Ushuaia -54.8000  -68.3000     55.06        62           0   \n",
       "4     George Town   5.4112  100.3354     84.13        87          40   \n",
       "..            ...      ...       ...       ...       ...         ...   \n",
       "562      Portland  45.5234 -122.6762     39.47        91         100   \n",
       "563       Tsabong -26.0217   22.4010     94.77        17           5   \n",
       "564         Zabid  14.1951   43.3152     79.63        60          99   \n",
       "565       Udachny  66.4167  112.4000     -3.84       100          82   \n",
       "566      São João  -8.8756  -36.3667     81.99        52          78   \n",
       "\n",
       "     Wind Speed Country        Date  \n",
       "0          1.99      EC  1645454359  \n",
       "1         16.67      ZA  1645454360  \n",
       "2         22.70      JP  1645454361  \n",
       "3          4.61      AR  1645454356  \n",
       "4          0.00      MY  1645454362  \n",
       "..          ...     ...         ...  \n",
       "562        7.00      US  1645454403  \n",
       "563       16.44      BW  1645454842  \n",
       "564       12.59      YE  1645454843  \n",
       "565        4.50      RU  1645454843  \n",
       "566        7.45      BR  1645454844  \n",
       "\n",
       "[567 rows x 9 columns]"
      ]
     },
     "execution_count": 57,
     "metadata": {},
     "output_type": "execute_result"
    }
   ],
   "source": [
    "weather_df "
   ]
  },
  {
   "cell_type": "markdown",
   "metadata": {},
   "source": [
    "## Inspect the data and remove the cities where the humidity > 100%.\n",
    "----\n",
    "Skip this step if there are no cities that have humidity > 100%. "
   ]
  },
  {
   "cell_type": "code",
   "execution_count": 58,
   "metadata": {},
   "outputs": [
    {
     "name": "stdout",
     "output_type": "stream",
     "text": [
      "There are no cities with humidity values over 100%\n",
      "In this case continue with plotting...\n"
     ]
    }
   ],
   "source": [
    "# --- find cities that have humidity over 100% ---\n",
    "humidity_over_100 = weather_df.loc[weather_df[\"Humidity\"] > 100, :]\n",
    "\n",
    "if humidity_over_100.empty == True:\n",
    "    print(\"There are no cities with humidity values over 100%\")\n",
    "    print(\"In this case continue with plotting...\")\n",
    "    \n",
    "    # --- extract relevant fields from the data frame for plotting ---\n",
    "    latitudes = weather_df[\"Lat\"]\n",
    "    temperatures = weather_df[\"Max Temp\"]\n",
    "    humidity = weather_df[\"Humidity\"]\n",
    "    cloudiness = weather_df[\"Cloudiness\"]\n",
    "    windspeed = weather_df[\"Wind Speed\"]\n",
    "    \n",
    "else:\n",
    "    # -- get the indices of cities that have humidity over 100% ---\n",
    "    Humidityover100Index = humidity_over_100.index\n",
    "    \n",
    "    # --- create a clean DataFrame by dropping all humidity outliers by index found above ---\n",
    "    clean_weather_data = weather_df.drop(Humidityover100Index).reset_index(drop=True)\n",
    "    clean_weather_data.head()\n",
    "    \n",
    "    # --- extract relevant fields from the data frame for plotting ---\n",
    "    latitudes = clean_weather_data[\"Lat\"]\n",
    "    temperatures = clean_weather_data[\"Max Temp\"]\n",
    "    humidity = clean_weather_data[\"Humidity\"]\n",
    "    cloudiness = clean_weather_data[\"Cloudiness\"]\n",
    "    windspeed = clean_weather_data[\"Wind Speed\"]\n",
    "\n",
    "    # --- export the new dataframe into a csv ---\n",
    "    clean_weather_data.to_csv(\"../output_data/clean_cities_data.csv\", index=True, index_label=\"City ID\", header=True)"
   ]
  },
  {
   "cell_type": "code",
   "execution_count": 59,
   "metadata": {},
   "outputs": [
    {
     "name": "stdout",
     "output_type": "stream",
     "text": [
      "By inspection, the maximum humidity value is 100%, so there are no values greater than 100% in this data\n"
     ]
    },
    {
     "data": {
      "text/plain": [
       "count    567.000000\n",
       "mean      69.813051\n",
       "std       22.229695\n",
       "min        4.000000\n",
       "25%       58.000000\n",
       "50%       73.000000\n",
       "75%       88.000000\n",
       "max      100.000000\n",
       "Name: Humidity, dtype: float64"
      ]
     },
     "execution_count": 59,
     "metadata": {},
     "output_type": "execute_result"
    }
   ],
   "source": [
    "#  Get the indices of cities that have humidity over 100%\n",
    "\n",
    "test_stats = weather_df[\"Humidity\"].describe(include = \"all\")\n",
    "print(\"By inspection, the maximum humidity value is 100%, so there are no values greater than 100% in this data\")\n",
    "test_stats"
   ]
  },
  {
   "cell_type": "code",
   "execution_count": 60,
   "metadata": {},
   "outputs": [
    {
     "data": {
      "text/plain": [
       "Int64Index([], dtype='int64')"
      ]
     },
     "execution_count": 60,
     "metadata": {},
     "output_type": "execute_result"
    }
   ],
   "source": [
    "#  Get the indices of cities that have humidity over 100%.\n",
    "humidity_over_100.index"
   ]
  },
  {
   "cell_type": "markdown",
   "metadata": {},
   "source": [
    "## Plotting the Data\n",
    "* Use proper labeling of the plots using plot titles (including date of analysis) and axes labels.\n",
    "* Save the plotted figures as .pngs."
   ]
  },
  {
   "cell_type": "markdown",
   "metadata": {},
   "source": [
    "## Latitude vs. Temperature Plot"
   ]
  },
  {
   "cell_type": "code",
   "execution_count": 61,
   "metadata": {
    "scrolled": true
   },
   "outputs": [
    {
     "data": {
      "image/png": "[encoded data removed]",
      "text/plain": [
       "<Figure size 432x288 with 1 Axes>"
      ]
     },
     "metadata": {
      "needs_background": "light"
     },
     "output_type": "display_data"
    }
   ],
   "source": [
    "#Converting Date for title of plot\n",
    "plt.scatter(weather_df['Lat'], weather_df['Max Temp'], marker = \"o\")\n",
    "\n",
    "#Creating plot\n",
    "plt.scatter(weather_df[\"Lat\"], weather_df[\"Max Temp\"], marker = \"o\", color = \"green\",edgecolor = \"black\")\n",
    "plt.grid()\n",
    "plt.xlabel(\"Latitude\")\n",
    "plt.ylabel(\"Max Temperature\")\n",
    "plt.title(f\"City Latitude vs. Max Temperature\")\n",
    "plt.savefig(\"output_data/Latitude vs. Max Temperature Plot.png\")\n",
    "plt.show()"
   ]
  },
  {
   "cell_type": "markdown",
   "metadata": {},
   "source": [
    "## Latitude vs. Humidity Plot"
   ]
  },
  {
   "cell_type": "code",
   "execution_count": 62,
   "metadata": {},
   "outputs": [
    {
     "data": {
      "image/png": "[encoded data removed]",
      "text/plain": [
       "<Figure size 432x288 with 1 Axes>"
      ]
     },
     "metadata": {
      "needs_background": "light"
     },
     "output_type": "display_data"
    }
   ],
   "source": [
    "plt.scatter(weather_df[\"Lat\"], weather_df[\"Humidity\"], marker = \"o\", color = \"green\",edgecolor = \"black\")\n",
    "plt.grid()\n",
    "plt.ylim(0, weather_df[\"Humidity\"].max()+50)\n",
    "plt.xlabel(\"Latitude\")\n",
    "plt.ylabel(\"Humidity\")\n",
    "plt.title(f\"City Latitude vs. Humidity\")\n",
    "plt.savefig(\"output_data/Lat_vs_humidity_plot\")\n",
    "plt.show()"
   ]
  },
  {
   "cell_type": "markdown",
   "metadata": {},
   "source": [
    "## Latitude vs. Cloudiness Plot"
   ]
  },
  {
   "cell_type": "code",
   "execution_count": 63,
   "metadata": {},
   "outputs": [
    {
     "data": {
      "image/png": "[encoded data removed]",
      "text/plain": [
       "<Figure size 432x288 with 1 Axes>"
      ]
     },
     "metadata": {
      "needs_background": "light"
     },
     "output_type": "display_data"
    }
   ],
   "source": [
    "plt.scatter(weather_df[\"Lat\"], weather_df[\"Cloudiness\"], marker = \"o\", color = \"green\",edgecolor = \"black\")\n",
    "plt.grid()\n",
    "plt.xlabel(\"Latitude\")\n",
    "plt.ylabel(\"Cloudiness(%)\")\n",
    "plt.title(f\"City Latitude vs. Cloudiness\")\n",
    "plt.savefig(\"output_data/Lat_vs_cloudiness_plot\")\n",
    "plt.show()"
   ]
  },
  {
   "cell_type": "markdown",
   "metadata": {},
   "source": [
    "## Latitude vs. Wind Speed Plot"
   ]
  },
  {
   "cell_type": "code",
   "execution_count": 64,
   "metadata": {},
   "outputs": [
    {
     "data": {
      "image/png": "[encoded data removed]",
      "text/plain": [
       "<Figure size 432x288 with 1 Axes>"
      ]
     },
     "metadata": {
      "needs_background": "light"
     },
     "output_type": "display_data"
    }
   ],
   "source": [
    "plt.scatter(weather_df[\"Lat\"], weather_df[\"Wind Speed\"], marker = \"o\", color = \"green\",edgecolor = \"black\")\n",
    "plt.grid()\n",
    "plt.xlabel(\"Latitude\")\n",
    "plt.ylabel(\"Wind Speed\")\n",
    "plt.title(f\"City Latitude vs. Wind Speed\")\n",
    "plt.savefig(\"output_data/Lat_vs_windSpeed_plot\")\n",
    "plt.show()"
   ]
  },
  {
   "cell_type": "markdown",
   "metadata": {},
   "source": [
    "## Linear Regression"
   ]
  },
  {
   "cell_type": "code",
   "execution_count": 65,
   "metadata": {},
   "outputs": [],
   "source": [
    "def plotLinearRegression(xdata,ydata,xlbl,ylbl,lblpos,ifig):\n",
    "    (slope, intercept, rvalue, pvalue, stderr) = linregress(xdata, ydata)\n",
    "    print(f\"The r-squared is: {rvalue}\")\n",
    "    regress_values = xdata * slope + intercept\n",
    "    line_eq = \"y = \" + str(round(slope,2)) + \"x + \" + str(round(intercept,2))\n",
    "\n",
    "    plt.scatter(xdata,ydata)\n",
    "    plt.plot(xdata,regress_values,\"r-\")\n",
    "    plt.annotate(line_eq,lblpos,fontsize=15,color=\"red\")\n",
    "    plt.xlabel(xlbl)\n",
    "    plt.ylabel(ylbl)\n",
    "    plt.savefig(f\"output_data/fig{ifig}.png\")\n",
    "    plt.show()"
   ]
  },
  {
   "cell_type": "code",
   "execution_count": 66,
   "metadata": {},
   "outputs": [
    {
     "data": {
      "text/html": [
       "<div>\n",
       "<style scoped>\n",
       "    .dataframe tbody tr th:only-of-type {\n",
       "        vertical-align: middle;\n",
       "    }\n",
       "\n",
       "    .dataframe tbody tr th {\n",
       "        vertical-align: top;\n",
       "    }\n",
       "\n",
       "    .dataframe thead th {\n",
       "        text-align: right;\n",
       "    }\n",
       "</style>\n",
       "<table border=\"1\" class=\"dataframe\">\n",
       "  <thead>\n",
       "    <tr style=\"text-align: right;\">\n",
       "      <th></th>\n",
       "      <th>City</th>\n",
       "      <th>Lat</th>\n",
       "      <th>Lng</th>\n",
       "      <th>Max Temp</th>\n",
       "      <th>Humidity</th>\n",
       "      <th>Cloudiness</th>\n",
       "      <th>Wind Speed</th>\n",
       "      <th>Country</th>\n",
       "      <th>Date</th>\n",
       "    </tr>\n",
       "  </thead>\n",
       "  <tbody>\n",
       "    <tr>\n",
       "      <th>2</th>\n",
       "      <td>Hasaki</td>\n",
       "      <td>35.7333</td>\n",
       "      <td>140.8333</td>\n",
       "      <td>36.00</td>\n",
       "      <td>41</td>\n",
       "      <td>6</td>\n",
       "      <td>22.70</td>\n",
       "      <td>JP</td>\n",
       "      <td>1645454361</td>\n",
       "    </tr>\n",
       "    <tr>\n",
       "      <th>4</th>\n",
       "      <td>George Town</td>\n",
       "      <td>5.4112</td>\n",
       "      <td>100.3354</td>\n",
       "      <td>84.13</td>\n",
       "      <td>87</td>\n",
       "      <td>40</td>\n",
       "      <td>0.00</td>\n",
       "      <td>MY</td>\n",
       "      <td>1645454362</td>\n",
       "    </tr>\n",
       "    <tr>\n",
       "      <th>8</th>\n",
       "      <td>Borovoy</td>\n",
       "      <td>55.4333</td>\n",
       "      <td>86.0833</td>\n",
       "      <td>22.28</td>\n",
       "      <td>58</td>\n",
       "      <td>0</td>\n",
       "      <td>8.95</td>\n",
       "      <td>RU</td>\n",
       "      <td>1645454365</td>\n",
       "    </tr>\n",
       "    <tr>\n",
       "      <th>9</th>\n",
       "      <td>Katsuura</td>\n",
       "      <td>35.1333</td>\n",
       "      <td>140.3000</td>\n",
       "      <td>39.31</td>\n",
       "      <td>46</td>\n",
       "      <td>18</td>\n",
       "      <td>9.15</td>\n",
       "      <td>JP</td>\n",
       "      <td>1645454366</td>\n",
       "    </tr>\n",
       "    <tr>\n",
       "      <th>11</th>\n",
       "      <td>Qaanaaq</td>\n",
       "      <td>77.4840</td>\n",
       "      <td>-69.3632</td>\n",
       "      <td>-9.99</td>\n",
       "      <td>60</td>\n",
       "      <td>90</td>\n",
       "      <td>7.47</td>\n",
       "      <td>GL</td>\n",
       "      <td>1645454368</td>\n",
       "    </tr>\n",
       "  </tbody>\n",
       "</table>\n",
       "</div>"
      ],
      "text/plain": [
       "           City      Lat       Lng  Max Temp  Humidity  Cloudiness  \\\n",
       "2        Hasaki  35.7333  140.8333     36.00        41           6   \n",
       "4   George Town   5.4112  100.3354     84.13        87          40   \n",
       "8       Borovoy  55.4333   86.0833     22.28        58           0   \n",
       "9      Katsuura  35.1333  140.3000     39.31        46          18   \n",
       "11      Qaanaaq  77.4840  -69.3632     -9.99        60          90   \n",
       "\n",
       "    Wind Speed Country        Date  \n",
       "2        22.70      JP  1645454361  \n",
       "4         0.00      MY  1645454362  \n",
       "8         8.95      RU  1645454365  \n",
       "9         9.15      JP  1645454366  \n",
       "11        7.47      GL  1645454368  "
      ]
     },
     "execution_count": 66,
     "metadata": {},
     "output_type": "execute_result"
    }
   ],
   "source": [
    "# Create Northern and Southern Hemisphere DataFrames\n",
    "Northern_hemisphere = weather_df.loc[weather_df[\"Lat\"]>0]\n",
    "Southern_hemisphere = weather_df.loc[weather_df[\"Lat\"]<0]\n",
    "\n",
    "Northern_hemisphere.head()\n"
   ]
  },
  {
   "cell_type": "code",
   "execution_count": 67,
   "metadata": {},
   "outputs": [
    {
     "data": {
      "image/png": "[encoded data removed]",
      "text/plain": [
       "<Figure size 432x288 with 1 Axes>"
      ]
     },
     "metadata": {
      "needs_background": "light"
     },
     "output_type": "display_data"
    },
    {
     "data": {
      "text/plain": [
       "<Figure size 432x288 with 0 Axes>"
      ]
     },
     "metadata": {},
     "output_type": "display_data"
    }
   ],
   "source": [
    "x_values = Northern_hemisphere[\"Lat\"]\n",
    "y_values = Northern_hemisphere[\"Max Temp\"]\n",
    "\n",
    "(slope, intercept, rvalue, pvalue, stderr) = linregress(x_values, y_values)\n",
    "regress_values = x_values * slope + intercept\n",
    "line_eq = \"y = \" + str(round(slope,2)) + \"x + \" + str(round(intercept,2))\n",
    "correlation = (x_values, y_values)\n",
    "\n",
    "plt.scatter(x_values,y_values)\n",
    "plt.title('Temperatures at Latitude Positions (Northern Hemisphere)')\n",
    "plt.plot(x_values,regress_values,\"r-\")\n",
    "plt.annotate(line_eq,(10,20),fontsize=12,color=\"red\")\n",
    "plt.xlabel('Latitude')\n",
    "plt.ylabel('Temperature (F)')\n",
    "plt.ylim(-5, 100)\n",
    "plt.xlim(0, 80)\n",
    "plt.minorticks_on()\n",
    "plt.grid(which='major', linestyle='-')\n",
    "plt.grid(which='minor', linestyle=':')\n",
    "plt.tight_layout()\n",
    "plt.show()\n",
    "plt.savefig(\"output_data/nh_lat_temp_regression.png\")"
   ]
  },
  {
   "cell_type": "markdown",
   "metadata": {},
   "source": [
    "####  Northern Hemisphere - Max Temp vs. Latitude Linear Regression"
   ]
  },
  {
   "cell_type": "code",
   "execution_count": 68,
   "metadata": {},
   "outputs": [
    {
     "name": "stdout",
     "output_type": "stream",
     "text": [
      "The r-squared is: -0.8386581475402424\n"
     ]
    },
    {
     "data": {
      "image/png": "[encoded data removed]",
      "text/plain": [
       "<Figure size 432x288 with 1 Axes>"
      ]
     },
     "metadata": {
      "needs_background": "light"
     },
     "output_type": "display_data"
    },
    {
     "data": {
      "text/plain": [
       "<Figure size 432x288 with 0 Axes>"
      ]
     },
     "metadata": {},
     "output_type": "display_data"
    }
   ],
   "source": [
    "xlbl = \"Lat\"\n",
    "ylbl = \"Max Temp\"\n",
    "lblpos = (0,25)\n",
    "plotLinearRegression(Northern_hemisphere[xlbl],Northern_hemisphere[ylbl],xlbl,ylbl,lblpos,6)\n",
    "plt.savefig(\"output_data/Linear_Regresion_plot\")\n"
   ]
  },
  {
   "cell_type": "markdown",
   "metadata": {},
   "source": [
    "####  Southern Hemisphere - Max Temp vs. Latitude Linear Regression"
   ]
  },
  {
   "cell_type": "code",
   "execution_count": 69,
   "metadata": {},
   "outputs": [
    {
     "name": "stdout",
     "output_type": "stream",
     "text": [
      "The r-squared is: 0.5986839205783634\n"
     ]
    },
    {
     "data": {
      "image/png": "[encoded data removed]",
      "text/plain": [
       "<Figure size 432x288 with 1 Axes>"
      ]
     },
     "metadata": {
      "needs_background": "light"
     },
     "output_type": "display_data"
    },
    {
     "data": {
      "text/plain": [
       "<Figure size 432x288 with 0 Axes>"
      ]
     },
     "metadata": {},
     "output_type": "display_data"
    }
   ],
   "source": [
    "xlbl = \"Lat\"\n",
    "ylbl = \"Max Temp\"\n",
    "lblpos = (-55,90)\n",
    "plotLinearRegression(Southern_hemisphere[xlbl],Southern_hemisphere[ylbl],xlbl,ylbl,lblpos,7)\n",
    "plt.savefig(\"output_data/Linear_Regresion_plot\")"
   ]
  },
  {
   "cell_type": "markdown",
   "metadata": {},
   "source": [
    "####  Northern Hemisphere - Humidity (%) vs. Latitude Linear Regression"
   ]
  },
  {
   "cell_type": "code",
   "execution_count": 70,
   "metadata": {},
   "outputs": [
    {
     "name": "stdout",
     "output_type": "stream",
     "text": [
      "The r-squared is: 0.431879440360338\n"
     ]
    },
    {
     "data": {
      "image/png": "[encoded data removed]",
      "text/plain": [
       "<Figure size 432x288 with 1 Axes>"
      ]
     },
     "metadata": {
      "needs_background": "light"
     },
     "output_type": "display_data"
    },
    {
     "data": {
      "text/plain": [
       "<Figure size 432x288 with 0 Axes>"
      ]
     },
     "metadata": {},
     "output_type": "display_data"
    }
   ],
   "source": [
    "xlbl = \"Lat\"\n",
    "ylbl = \"Humidity\"\n",
    "lblpos = (45,10)\n",
    "plotLinearRegression(Northern_hemisphere[xlbl],Northern_hemisphere[ylbl],xlbl,ylbl,lblpos,8)\n",
    "plt.savefig(\"output_data/Linear_Regresion_plot\")"
   ]
  },
  {
   "cell_type": "markdown",
   "metadata": {},
   "source": [
    "####  Southern Hemisphere - Humidity (%) vs. Latitude Linear Regression"
   ]
  },
  {
   "cell_type": "code",
   "execution_count": 71,
   "metadata": {},
   "outputs": [
    {
     "name": "stdout",
     "output_type": "stream",
     "text": [
      "The r-squared is: 0.19802558447774485\n"
     ]
    },
    {
     "data": {
      "image/png": "[encoded data removed]",
      "text/plain": [
       "<Figure size 432x288 with 1 Axes>"
      ]
     },
     "metadata": {
      "needs_background": "light"
     },
     "output_type": "display_data"
    },
    {
     "data": {
      "text/plain": [
       "<Figure size 432x288 with 0 Axes>"
      ]
     },
     "metadata": {},
     "output_type": "display_data"
    }
   ],
   "source": [
    "xlbl = \"Lat\"\n",
    "ylbl = \"Humidity\"\n",
    "lblpos = (-55,15)\n",
    "plotLinearRegression(Southern_hemisphere[xlbl],Southern_hemisphere[ylbl],xlbl,ylbl,lblpos,9)\n",
    "plt.savefig(\"output_data/Linear_Regresion_plot\")"
   ]
  },
  {
   "cell_type": "markdown",
   "metadata": {},
   "source": [
    "####  Northern Hemisphere - Cloudiness (%) vs. Latitude Linear Regression"
   ]
  },
  {
   "cell_type": "code",
   "execution_count": 72,
   "metadata": {},
   "outputs": [
    {
     "name": "stdout",
     "output_type": "stream",
     "text": [
      "The r-squared is: 0.14507084598311096\n"
     ]
    },
    {
     "data": {
      "image/png": "[encoded data removed]",
      "text/plain": [
       "<Figure size 432x288 with 1 Axes>"
      ]
     },
     "metadata": {
      "needs_background": "light"
     },
     "output_type": "display_data"
    },
    {
     "data": {
      "text/plain": [
       "<Figure size 432x288 with 0 Axes>"
      ]
     },
     "metadata": {},
     "output_type": "display_data"
    }
   ],
   "source": [
    "xlbl = \"Lat\"\n",
    "ylbl = \"Cloudiness\"\n",
    "lblpos = (20,40)\n",
    "plotLinearRegression(Northern_hemisphere[xlbl],Northern_hemisphere[ylbl],xlbl,ylbl,lblpos,10)\n",
    "plt.savefig(\"output_data/Linear_Regresion_plot\")"
   ]
  },
  {
   "cell_type": "markdown",
   "metadata": {},
   "source": [
    "####  Southern Hemisphere - Cloudiness (%) vs. Latitude Linear Regression"
   ]
  },
  {
   "cell_type": "code",
   "execution_count": 73,
   "metadata": {},
   "outputs": [
    {
     "name": "stdout",
     "output_type": "stream",
     "text": [
      "The r-squared is: 0.44171741721691743\n"
     ]
    },
    {
     "data": {
      "image/png": "[encoded data removed]",
      "text/plain": [
       "<Figure size 432x288 with 1 Axes>"
      ]
     },
     "metadata": {
      "needs_background": "light"
     },
     "output_type": "display_data"
    },
    {
     "data": {
      "text/plain": [
       "<Figure size 432x288 with 0 Axes>"
      ]
     },
     "metadata": {},
     "output_type": "display_data"
    }
   ],
   "source": [
    "xlbl = \"Lat\"\n",
    "ylbl = \"Cloudiness\"\n",
    "lblpos = (-55,50)\n",
    "plotLinearRegression(Southern_hemisphere[xlbl],Southern_hemisphere[ylbl],xlbl,ylbl,lblpos,11)\n",
    "plt.savefig(\"output_data/Linear_Regresion_plot\")"
   ]
  },
  {
   "cell_type": "markdown",
   "metadata": {},
   "source": [
    "####  Northern Hemisphere - Wind Speed (mph) vs. Latitude Linear Regression"
   ]
  },
  {
   "cell_type": "code",
   "execution_count": 74,
   "metadata": {},
   "outputs": [
    {
     "name": "stdout",
     "output_type": "stream",
     "text": [
      "The r-squared is: 0.15300827961560898\n"
     ]
    },
    {
     "data": {
      "image/png": "[encoded data removed]",
      "text/plain": [
       "<Figure size 432x288 with 1 Axes>"
      ]
     },
     "metadata": {
      "needs_background": "light"
     },
     "output_type": "display_data"
    },
    {
     "data": {
      "text/plain": [
       "<Figure size 432x288 with 0 Axes>"
      ]
     },
     "metadata": {},
     "output_type": "display_data"
    }
   ],
   "source": [
    "xlbl = \"Lat\"\n",
    "ylbl = \"Wind Speed\"\n",
    "lblpos = (0,30)\n",
    "plotLinearRegression(Northern_hemisphere[xlbl],Northern_hemisphere[ylbl],xlbl,ylbl,lblpos,12)\n",
    "plt.savefig(\"output_data/Linear_Regresion_plot\")"
   ]
  },
  {
   "cell_type": "markdown",
   "metadata": {},
   "source": [
    "####  Southern Hemisphere - Wind Speed (mph) vs. Latitude Linear Regression"
   ]
  },
  {
   "cell_type": "code",
   "execution_count": 75,
   "metadata": {},
   "outputs": [
    {
     "name": "stdout",
     "output_type": "stream",
     "text": [
      "The r-squared is: -0.31755609938002033\n"
     ]
    },
    {
     "data": {
      "image/png": "[encoded data removed]",
      "text/plain": [
       "<Figure size 432x288 with 1 Axes>"
      ]
     },
     "metadata": {
      "needs_background": "light"
     },
     "output_type": "display_data"
    },
    {
     "data": {
      "text/plain": [
       "<Figure size 432x288 with 0 Axes>"
      ]
     },
     "metadata": {},
     "output_type": "display_data"
    }
   ],
   "source": [
    "xlbl = \"Lat\"\n",
    "ylbl = \"Wind Speed\"\n",
    "lblpos = (-25,33)\n",
    "plotLinearRegression(Southern_hemisphere[xlbl],Southern_hemisphere[ylbl],xlbl,ylbl,lblpos,13)\n",
    "plt.savefig(\"output_data/Linear_Regresion_plot\")"
   ]
  },
  {
   "cell_type": "code",
   "execution_count": null,
   "metadata": {},
   "outputs": [],
   "source": []
  }
 ],
 "metadata": {
  "anaconda-cloud": {},
  "kernel_info": {
   "name": "python3"
  },
  "kernelspec": {
   "display_name": "Python 3",
   "language": "python",
   "name": "python3"
  },
  "language_info": {
   "codemirror_mode": {
    "name": "ipython",
    "version": 3
   },
   "file_extension": ".py",
   "mimetype": "text/x-python",
   "name": "python",
   "nbconvert_exporter": "python",
   "pygments_lexer": "ipython3",
   "version": "3.8.8"
  },
  "latex_envs": {
   "LaTeX_envs_menu_present": true,
   "autoclose": false,
   "autocomplete": true,
   "bibliofile": "biblio.bib",
   "cite_by": "apalike",
   "current_citInitial": 1,
   "eqLabelWithNumbers": true,
   "eqNumInitial": 1,
   "hotkeys": {
    "equation": "Ctrl-E",
    "itemize": "Ctrl-I"
   },
   "labels_anchors": false,
   "latex_user_defs": false,
   "report_style_numbering": false,
   "user_envs_cfg": false
  },
  "nteract": {
   "version": "0.12.3"
  }
 },
 "nbformat": 4,
 "nbformat_minor": 2
}
